{
 "cells": [
  {
   "cell_type": "code",
   "execution_count": null,
   "id": "5ffa1861",
   "metadata": {},
   "outputs": [],
   "source": [
    "import numpy as np\n",
    "import pandas as pd\n",
    "import jax\n",
    "import plotly.graph_objects as go\n",
    "import jax.numpy as jnp\n",
    "from jax import random\n",
    "from functools import partial\n",
    "import matplotlib.pyplot as plt\n",
    "\n",
    "print(jax.default_backend())\n",
    "\n",
    "key = random.PRNGKey(42)\n",
    "new_key, subkey = random.split(key)"
   ]
  },
  {
   "cell_type": "code",
   "execution_count": null,
   "id": "b7589f97",
   "metadata": {},
   "outputs": [],
   "source": [
    "b = jnp.array([0.1, 0.9])"
   ]
  },
  {
   "cell_type": "code",
   "execution_count": null,
   "id": "e458797b",
   "metadata": {},
   "outputs": [],
   "source": [
    "x1 = 100 + 100*np.random.lognormal(size=(1000, ), sigma=0.5)\n",
    "x2 = 200 + 50*np.random.lognormal(size=(1000, ), sigma=0.5)"
   ]
  },
  {
   "cell_type": "code",
   "execution_count": null,
   "id": "b7e1c9fc",
   "metadata": {},
   "outputs": [],
   "source": [
    "x_all = jnp.vstack((x2, x1))"
   ]
  },
  {
   "cell_type": "code",
   "execution_count": null,
   "id": "e806097a",
   "metadata": {},
   "outputs": [],
   "source": [
    "plt.plot(x_all.T);"
   ]
  },
  {
   "cell_type": "code",
   "execution_count": null,
   "id": "e8cc689f",
   "metadata": {},
   "outputs": [],
   "source": [
    "# Convert x_all to stock multipliers\n",
    "\n",
    "x_all = x_all[:, 1:] / x_all[:, 0:-1]"
   ]
  },
  {
   "cell_type": "code",
   "execution_count": null,
   "id": "837f79fc",
   "metadata": {},
   "outputs": [],
   "source": [
    "plt.plot(x_all.T);"
   ]
  },
  {
   "cell_type": "code",
   "execution_count": null,
   "id": "2f3d2125",
   "metadata": {},
   "outputs": [],
   "source": [
    "@jax.jit\n",
    "def S_k(b, x_k):\n",
    "    \"\"\"\n",
    "    Wealth upto time k\n",
    "    b = some scalar, where we set b2 = 1 - b1, shape = (2, )\n",
    "    x_k = matrix of stock multiples, shape = (2, K)\n",
    "    \"\"\"\n",
    "    b_full = jnp.array([b, 1. - b])\n",
    "    return jnp.multiply(b_full[..., None], x_k).sum(axis=0).prod()"
   ]
  },
  {
   "cell_type": "code",
   "execution_count": null,
   "id": "d0c3967b",
   "metadata": {},
   "outputs": [],
   "source": [
    "# Hindsight optimal portfolio\n",
    "\n",
    "b_hos = list(np.arange(0, 1, 0.05))\n",
    "S_k_ho = partial(S_k, x_k = x_all)\n",
    "S_ho = jax.tree_map(S_k_ho, b_hos)"
   ]
  },
  {
   "cell_type": "code",
   "execution_count": null,
   "id": "5a59c302",
   "metadata": {},
   "outputs": [],
   "source": [
    "plt.plot(np.array(b_hos), S_ho, \"ro-\")"
   ]
  },
  {
   "cell_type": "code",
   "execution_count": null,
   "id": "1c78cb64",
   "metadata": {},
   "outputs": [],
   "source": [
    "# Check extreme portfolios lineup\n",
    "\n",
    "assert S_k(1, x_all) == x_all.prod(axis=1)[0]\n",
    "assert S_k(0, x_all) == x_all.prod(axis=1)[1]"
   ]
  },
  {
   "cell_type": "code",
   "execution_count": null,
   "id": "628a4328",
   "metadata": {},
   "outputs": [],
   "source": [
    "# Calculation of universal portfolio fraction at (k+1)\n",
    "# At t = 0, we assume the amount is [0.5, 0.5] split\n",
    "# then k+1 can be calculated, without observing x_(k+1)"
   ]
  },
  {
   "cell_type": "code",
   "execution_count": null,
   "id": "18c0c1c4",
   "metadata": {},
   "outputs": [],
   "source": [
    "@jax.jit\n",
    "def num_body_fun(i, x):\n",
    "    return (i/100)*S_k(i/100, x) # + val\n",
    "\n",
    "@jax.jit\n",
    "def denom_body_fun(i, x):\n",
    "    return S_k(i/100, x)"
   ]
  },
  {
   "cell_type": "code",
   "execution_count": null,
   "id": "12476ff8",
   "metadata": {},
   "outputs": [],
   "source": [
    "# idx = list(jnp.arange(0, 101, 1))\n",
    "# tmp1 = jax.tree_map(num_body_fun, idx, list(x_all[:, 0:2]))\n",
    "# num = jnp.trapz(jnp.array(tmp1))"
   ]
  },
  {
   "cell_type": "code",
   "execution_count": null,
   "id": "0fe5e301",
   "metadata": {},
   "outputs": [],
   "source": [
    "@jax.jit\n",
    "def b_k_next(x_k):\n",
    "    \n",
    "    num_body_func = jax.tree_util.Partial(num_body_fun, x=x_k)\n",
    "    denom_body_func = jax.tree_util.Partial(denom_body_fun, x=x_k)\n",
    "\n",
    "    # Calculate numerator\n",
    "\n",
    "    idx = list(jnp.arange(0, 101, 1))\n",
    "    tmp1 = jax.tree_map(num_body_func, idx)\n",
    "    num = jnp.trapz(jnp.array(tmp1))\n",
    "\n",
    "    # Calculate denominator\n",
    "\n",
    "    tmp2 = jax.tree_map(denom_body_func, idx)\n",
    "    denom = jnp.trapz(jnp.array(tmp2))\n",
    "\n",
    "    return num/denom"
   ]
  },
  {
   "cell_type": "code",
   "execution_count": null,
   "id": "b996a201",
   "metadata": {},
   "outputs": [],
   "source": [
    "b_k_next(x_all[:, 0:20])"
   ]
  },
  {
   "cell_type": "code",
   "execution_count": null,
   "id": "79951e26",
   "metadata": {
    "scrolled": true
   },
   "outputs": [],
   "source": [
    "#  Universal portfolio amounts\n",
    "\n",
    "xs = [x_all[:, 0:i] for i in range(1, x_all.shape[1]+1)]\n",
    "# b_univ = jax.tree_map(b_k_next, xs)\n",
    "\n",
    "b_univ = [0.5]\n",
    "\n",
    "for i, x_k in enumerate(xs):\n",
    "    print(i)\n",
    "    b_univ.append(b_k_next(x_k))"
   ]
  },
  {
   "cell_type": "code",
   "execution_count": null,
   "id": "a1765b41",
   "metadata": {},
   "outputs": [],
   "source": [
    "b_univ_all = jnp.vstack((jnp.array(b_univ), 1-jnp.array(b_univ)))"
   ]
  },
  {
   "cell_type": "code",
   "execution_count": null,
   "id": "7f9fe16d",
   "metadata": {},
   "outputs": [],
   "source": [
    "b_univ_all.shape"
   ]
  },
  {
   "cell_type": "code",
   "execution_count": null,
   "id": "48585511",
   "metadata": {},
   "outputs": [],
   "source": [
    "x_all_upd = jnp.hstack((jnp.array([1., 1.])[:, None], x_all))"
   ]
  },
  {
   "cell_type": "code",
   "execution_count": null,
   "id": "640f0131",
   "metadata": {},
   "outputs": [],
   "source": [
    "x_all_upd.shape"
   ]
  },
  {
   "cell_type": "code",
   "execution_count": null,
   "id": "36f75316",
   "metadata": {},
   "outputs": [],
   "source": [
    "def S_n(b_mat, x_mat):\n",
    "    # Note telescoping happens naturally\n",
    "    return ((b_mat) * (x_mat)).sum(axis=0).cumprod()\n",
    "\n",
    "# Wealth multiplier using b_univ_s\n",
    "\n",
    "S_univ = S_n(b_univ_all, x_all_upd)"
   ]
  },
  {
   "cell_type": "code",
   "execution_count": null,
   "id": "61ef6cba",
   "metadata": {},
   "outputs": [],
   "source": [
    "plt.plot(S_univ)"
   ]
  },
  {
   "cell_type": "code",
   "execution_count": null,
   "id": "6a767d84",
   "metadata": {},
   "outputs": [],
   "source": [
    "# TODO: we need to calculate wealth multiplier at t using b"
   ]
  },
  {
   "cell_type": "code",
   "execution_count": null,
   "id": "3d187931",
   "metadata": {},
   "outputs": [],
   "source": [
    "# TODO, given some x[:, 0:L], we can calculate b_k_next\n",
    "# But how can I use Jax to loop over x[:, 0:L]?"
   ]
  },
  {
   "cell_type": "code",
   "execution_count": null,
   "id": "f6823179",
   "metadata": {},
   "outputs": [],
   "source": [
    "# def num_body_fun(i, val, x):\n",
    "#     return (i/100)*S_k(i/100, x) # + val\n",
    "\n",
    "# def denom_body_fun(i, val, x):\n",
    "#     return S_k(i/100, x) + val\n",
    "\n",
    "# def b_k_next(x_k):\n",
    "#     \"\"\"\n",
    "#     b_k_next = b[k+1] optimal\n",
    "#     x_k = x[k] observed upto now\n",
    "#     b[k+1] = \\int_{0, 1} b*S(k, b)db / \\int_{0, 1} S(k, b) db\n",
    "#     \"\"\"\n",
    "#     num_body_func = partial(num_body_fun, x=x_k)\n",
    "#     denom_body_func = partial(num_body_fun, x=x_k)\n",
    "    \n",
    "#     # Solve the integrals numerically\n",
    "    \n",
    "#     numerator = jax.lax.fori_loop(0, 101, num_body_func, 0.)\n",
    "#     denominator = jax.lax.fori_loop(0, 101, denom_body_func, 0.)\n",
    "    \n",
    "#     return numerator/denominator"
   ]
  }
 ],
 "metadata": {
  "kernelspec": {
   "display_name": "Python 3 (ipykernel)",
   "language": "python",
   "name": "python3"
  },
  "language_info": {
   "codemirror_mode": {
    "name": "ipython",
    "version": 3
   },
   "file_extension": ".py",
   "mimetype": "text/x-python",
   "name": "python",
   "nbconvert_exporter": "python",
   "pygments_lexer": "ipython3",
   "version": "3.8.10"
  }
 },
 "nbformat": 4,
 "nbformat_minor": 5
}
