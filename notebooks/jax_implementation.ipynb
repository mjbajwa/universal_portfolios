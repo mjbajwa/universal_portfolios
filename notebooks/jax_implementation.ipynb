{
 "cells": [
  {
   "cell_type": "code",
   "execution_count": 1,
   "metadata": {},
   "outputs": [
    {
     "name": "stderr",
     "output_type": "stream",
     "text": [
      "WARNING:absl:No GPU/TPU found, falling back to CPU. (Set TF_CPP_MIN_LOG_LEVEL=0 and rerun for more info.)\n"
     ]
    },
    {
     "name": "stdout",
     "output_type": "stream",
     "text": [
      "cpu\n"
     ]
    }
   ],
   "source": [
    "import numpy as np\n",
    "import pandas as pd\n",
    "import jax\n",
    "import plotly.graph_objects as go\n",
    "import jax.numpy as jnp\n",
    "from jax import random\n",
    "from functools import partial\n",
    "import matplotlib.pyplot as plt\n",
    "import matplotlib\n",
    "from tqdm import tqdm\n",
    "import pandas as pd\n",
    "import plotly.graph_objects as go\n",
    "\n",
    "# matplotlib.rcParams['figure.dpi'] = 600\n",
    "\n",
    "print(jax.default_backend())\n",
    "\n",
    "key = random.PRNGKey(42)\n",
    "new_key, subkey = random.split(key)"
   ]
  },
  {
   "cell_type": "code",
   "execution_count": 2,
   "metadata": {},
   "outputs": [],
   "source": [
    "def compute_price_relatives(df):\n",
    "    \n",
    "    df = df.copy(deep=True)\n",
    "\n",
    "    for stock in list(df.columns)[1:]:\n",
    "        df[stock] = df[stock] / df[stock].shift(+1)\n",
    "\n",
    "    df = df.iloc[1:, :]\n",
    "\n",
    "    return df"
   ]
  },
  {
   "cell_type": "code",
   "execution_count": 3,
   "metadata": {},
   "outputs": [],
   "source": [
    "# Load Stock Data\n",
    "\n",
    "df_stocks = pd.read_csv(\"../data/stock_prices_8.csv\")\n",
    "df_stocks[\"Cash\"] = 1\n",
    "df_stocks_relatives = compute_price_relatives(df_stocks)"
   ]
  },
  {
   "cell_type": "code",
   "execution_count": 4,
   "metadata": {},
   "outputs": [],
   "source": [
    "def make_fictional_data(N=1000):\n",
    "    \n",
    "    #     s1 = 100 + 100*np.random.lognormal(size=(N, ), sigma=1)\n",
    "    #     s2 = 200 + 50*np.random.lognormal(size=(N, ), sigma=1)\n",
    "    #     s_all = jnp.vstack((s1, s2))\n",
    "    \n",
    "    s_all = np.exp(np.random.multivariate_normal([0., 0.],\n",
    "                                                 cov = np.array([[0.3, 0.05], [0.05, 0.3]]), size=N).T)\n",
    "    \n",
    "    # Convert x_all to stock multipliers\n",
    "\n",
    "    x_all = s_all[:, 1:] / s_all[:, 0:-1]\n",
    "    x_all = jnp.hstack((jnp.array([1., 1.])[:, None], x_all))\n",
    "    \n",
    "    return x_all"
   ]
  },
  {
   "cell_type": "code",
   "execution_count": 5,
   "metadata": {},
   "outputs": [],
   "source": [
    "# Pick which x_all to use\n",
    "\n",
    "x_all = df_stocks_relatives[[\"AAPL\", \"AMZN\"]].T.to_numpy()\n",
    "# x_all = make_fictional_data(N=100)"
   ]
  },
  {
   "cell_type": "code",
   "execution_count": 6,
   "metadata": {},
   "outputs": [],
   "source": [
    "@jax.jit\n",
    "def S_k(b, x_k):\n",
    "    \"\"\"\n",
    "    Wealth upto time k\n",
    "    b = some scalar, where we set b2 = 1 - b1, shape = (2, )\n",
    "    x_k = matrix of stock multiples, shape = (2, K)\n",
    "    \"\"\"\n",
    "    b_full = jnp.array([b, 1. - b])\n",
    "    return jnp.multiply(b_full[..., None], x_k).sum(axis=0).prod()"
   ]
  },
  {
   "cell_type": "code",
   "execution_count": 7,
   "metadata": {},
   "outputs": [],
   "source": [
    "def get_hindsight_optimal_portfolio(x_all):\n",
    "\n",
    "    # Hindsight optimal portfolio\n",
    "\n",
    "    b_hos = list(np.arange(0, 1, 0.01))\n",
    "    W_ho = jax.tree_map(S_k, b_hos, [x_all for _ in range(len(b_hos))])\n",
    "    combined_mat = np.vstack([b_hos, W_ho])\n",
    "    b_ho = combined_mat[0, np.argmax(combined_mat[1, :])]\n",
    "    \n",
    "    # Plot to check\n",
    "    \n",
    "    plt.figure(figsize=(7, 3))\n",
    "    plt.plot(np.array(b_hos), W_ho, \"ro-\")\n",
    "    plt.xlabel(\"Fraction in Stock 1\")\n",
    "    plt.ylabel(\"Wealth Multiplier\")\n",
    "    \n",
    "    return b_ho"
   ]
  },
  {
   "cell_type": "code",
   "execution_count": 8,
   "metadata": {},
   "outputs": [
    {
     "data": {
      "image/png": "[encoded data removed]",
      "text/plain": [
       "<Figure size 504x216 with 1 Axes>"
      ]
     },
     "metadata": {
      "needs_background": "light"
     },
     "output_type": "display_data"
    }
   ],
   "source": [
    "b_ho = get_hindsight_optimal_portfolio(x_all)"
   ]
  },
  {
   "cell_type": "code",
   "execution_count": 9,
   "metadata": {},
   "outputs": [],
   "source": [
    "# Check extreme portfolios lineup\n",
    "\n",
    "# assert S_k(1, x_all) == x_all.prod(axis=1)[0]\n",
    "# assert S_k(0, x_all) == x_all.prod(axis=1)[1]"
   ]
  },
  {
   "cell_type": "markdown",
   "metadata": {},
   "source": [
    "# New Approach"
   ]
  },
  {
   "cell_type": "code",
   "execution_count": 10,
   "metadata": {},
   "outputs": [],
   "source": [
    "def S_n(b_mat, x_mat):\n",
    "    # If passing a fixed b_mat, make sure to do b_mat[..., None]\n",
    "    return ((b_mat) * (x_mat)).sum(axis=0).cumprod()"
   ]
  },
  {
   "cell_type": "code",
   "execution_count": null,
   "metadata": {},
   "outputs": [
    {
     "name": "stderr",
     "output_type": "stream",
     "text": [
      "100%|██████████| 5030/5030 [00:00<00:00, 1555163.58it/s]\n",
      " 60%|█████▉    | 3002/5030 [05:23<03:50,  8.81it/s]"
     ]
    }
   ],
   "source": [
    "# Integration of b_k_next\n",
    "\n",
    "@jax.jit\n",
    "def num_body_fun(i, x):\n",
    "    return (i/100)*S_k(i/100, x)\n",
    "\n",
    "@jax.jit\n",
    "def denom_body_fun(i, x):\n",
    "    return S_k(i/100, x)\n",
    "\n",
    "def b_k_next(x_k):    \n",
    "    \n",
    "    # Numerator\n",
    "    \n",
    "    i_idx = list(jnp.arange(0, 101, 1))\n",
    "    x_rep = [x_k for i in range(0, len(i_idx))]\n",
    "    num_list = jax.tree_map(num_body_fun, i_idx, x_rep)\n",
    "    num = jnp.trapz(jnp.array(num_list))\n",
    "    \n",
    "    # Denominator\n",
    "    \n",
    "    denom_list = jax.tree_map(denom_body_fun, i_idx, x_rep)\n",
    "    denom = jnp.trapz(jnp.array(denom_list))\n",
    "    \n",
    "    return num/denom\n",
    "\n",
    "# Transform x's into a list of smaller arrays (memory consuming!)\n",
    "\n",
    "xs = [x_all[:, 0:i] for i in tqdm(range(1, x_all.shape[1]))]\n",
    "\n",
    "# Loop over time and calculate universal portfolio\n",
    "\n",
    "b_univ = [0.5]\n",
    "\n",
    "for i in tqdm(range(len(xs))):\n",
    "    b_univ.append(b_k_next(xs[i]))\n",
    "\n",
    "# TODO: can this be parallelized easily? should be able to."
   ]
  },
  {
   "cell_type": "code",
   "execution_count": null,
   "metadata": {},
   "outputs": [],
   "source": [
    "b_univ = jnp.array(b_univ)\n",
    "b_univ_all = jnp.vstack((jnp.array(b_univ), 1-jnp.array(b_univ)))\n",
    "print(b_univ_all.shape)"
   ]
  },
  {
   "cell_type": "code",
   "execution_count": null,
   "metadata": {},
   "outputs": [],
   "source": [
    "W_b_univ = S_n(b_univ_all, x_all)\n",
    "W_b_ho_opt = S_n(jnp.array([b_ho, 1-b_ho])[..., None], x_all)\n",
    "W_b_s0 = S_n(jnp.array([1., 0])[..., None], x_all)\n",
    "W_b_s1 = S_n(jnp.array([0., 1.])[..., None], x_all)"
   ]
  },
  {
   "cell_type": "code",
   "execution_count": null,
   "metadata": {},
   "outputs": [],
   "source": [
    "t = [i for i in range(0, len(W_b_univ))]"
   ]
  },
  {
   "cell_type": "code",
   "execution_count": null,
   "metadata": {},
   "outputs": [],
   "source": [
    "def plot_wealth_multiplier(df_wealth_multiplier, stocks,\n",
    "                           title_text=\"Wealth Multiplier\", yaxis_text=\"Multiplier\"):\n",
    "    fig = go.Figure()\n",
    "\n",
    "    fig.add_trace(go.Scatter(x=df_wealth_multiplier[\"Date\"],\n",
    "                             y=df_wealth_multiplier[\"universal_portfolio\"],\n",
    "                             mode='lines',\n",
    "                             name=\"Universal Portfolio\",\n",
    "                             marker=dict(color='Black')))\n",
    "\n",
    "    fig.add_trace(go.Scatter(x=df_wealth_multiplier[\"Date\"],\n",
    "                             y=df_wealth_multiplier[\"stock_1_only\"],\n",
    "                             mode='lines',\n",
    "                             name=stocks[0],\n",
    "                             marker=dict(color='Red')))\n",
    "\n",
    "    fig.add_trace(go.Scatter(x=df_wealth_multiplier[\"Date\"],\n",
    "                             y=df_wealth_multiplier[\"stock_2_only\"],\n",
    "                             mode='lines',\n",
    "                             name=stocks[1],\n",
    "                             marker=dict(color='Blue')))\n",
    "\n",
    "    fig.update_layout(title=title_text, yaxis_title=yaxis_text)\n",
    "\n",
    "    return fig"
   ]
  },
  {
   "cell_type": "code",
   "execution_count": null,
   "metadata": {},
   "outputs": [],
   "source": [
    "fig = go.Figure()\n",
    "\n",
    "fig.add_trace(go.Scatter(x=t,\n",
    "                         y=W_b_ho_opt,\n",
    "                         mode='lines',\n",
    "                         name=\"Hindsight Optimal (Fixed & Rebalanced)\",\n",
    "                         marker=dict(color='Green')))\n",
    "\n",
    "fig.add_trace(go.Scatter(x=t,\n",
    "                         y=W_b_univ,\n",
    "                         mode='lines',\n",
    "                         name=\"Universal Portfolio\",\n",
    "                         marker=dict(color='Black')))\n",
    "\n",
    "fig.add_trace(go.Scatter(x=t,\n",
    "                         y=W_b_s0,\n",
    "                         mode='lines',\n",
    "                         name=\"Stock 1\",\n",
    "                         marker=dict(color='Red')))\n",
    "\n",
    "fig.add_trace(go.Scatter(x=t,\n",
    "                         y=W_b_s1,\n",
    "                         mode='lines',\n",
    "                         name=\"Stock 2\",\n",
    "                         marker=dict(color='Blue')))\n",
    "\n",
    "# fig.update_layout(title=title_text, yaxis_title=yaxis_text)"
   ]
  },
  {
   "cell_type": "code",
   "execution_count": null,
   "metadata": {},
   "outputs": [],
   "source": [
    "# plt.figure(figsize=(17, 7))\n",
    "# plt.plot(W_b_univ, \"r\", label=\"Universal Portfolio\")\n",
    "# plt.plot(W_b_ho_opt, \"g\", label=\"Hindsight Optimal (Fixed & Rebalanced)\")\n",
    "# plt.plot(W_b_s0, color=\"blue\", label=\"Investing in Stock 1 only\")\n",
    "# plt.plot(W_b_s1, color=\"darkblue\", label=\"Investing in Stock 0 only\")\n",
    "# plt.xlabel(\"Time (Discretized into 1 day)\")\n",
    "# plt.ylabel(\"Wealth Factor\")\n",
    "# plt.legend()"
   ]
  }
 ],
 "metadata": {
  "kernelspec": {
   "display_name": "Python 3",
   "language": "python",
   "name": "python3"
  },
  "language_info": {
   "codemirror_mode": {
    "name": "ipython",
    "version": 3
   },
   "file_extension": ".py",
   "mimetype": "text/x-python",
   "name": "python",
   "nbconvert_exporter": "python",
   "pygments_lexer": "ipython3",
   "version": "3.8.5"
  }
 },
 "nbformat": 4,
 "nbformat_minor": 5
}
