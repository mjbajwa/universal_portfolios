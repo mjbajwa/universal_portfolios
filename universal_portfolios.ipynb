{
 "cells": [
  {
   "cell_type": "markdown",
   "metadata": {},
   "source": [
    "## Load Libraries and Data"
   ]
  },
  {
   "cell_type": "code",
   "execution_count": 168,
   "metadata": {},
   "outputs": [],
   "source": [
    "import pandas as pd\n",
    "import numpy as np\n",
    "import plotly.express as px\n",
    "import plotly.graph_objects as go"
   ]
  },
  {
   "cell_type": "code",
   "execution_count": 169,
   "metadata": {},
   "outputs": [
    {
     "ename": "FileNotFoundError",
     "evalue": "[Errno 2] File b'stock_prices_8.csv' does not exist: b'stock_prices_8.csv'",
     "output_type": "error",
     "traceback": [
      "\u001b[0;31m---------------------------------------------------------------------------\u001b[0m",
      "\u001b[0;31mFileNotFoundError\u001b[0m                         Traceback (most recent call last)",
      "\u001b[0;32m<ipython-input-169-00addac98626>\u001b[0m in \u001b[0;36m<module>\u001b[0;34m\u001b[0m\n\u001b[1;32m      1\u001b[0m \u001b[0;31m# Load stocks dataframe\u001b[0m\u001b[0;34m\u001b[0m\u001b[0;34m\u001b[0m\u001b[0;34m\u001b[0m\u001b[0m\n\u001b[1;32m      2\u001b[0m \u001b[0;34m\u001b[0m\u001b[0m\n\u001b[0;32m----> 3\u001b[0;31m \u001b[0mdf_stocks\u001b[0m \u001b[0;34m=\u001b[0m \u001b[0mpd\u001b[0m\u001b[0;34m.\u001b[0m\u001b[0mread_csv\u001b[0m\u001b[0;34m(\u001b[0m\u001b[0;34m\"stock_prices_8.csv\"\u001b[0m\u001b[0;34m)\u001b[0m\u001b[0;34m\u001b[0m\u001b[0;34m\u001b[0m\u001b[0m\n\u001b[0m",
      "\u001b[0;32m~/anaconda3/lib/python3.6/site-packages/pandas/io/parsers.py\u001b[0m in \u001b[0;36mparser_f\u001b[0;34m(filepath_or_buffer, sep, delimiter, header, names, index_col, usecols, squeeze, prefix, mangle_dupe_cols, dtype, engine, converters, true_values, false_values, skipinitialspace, skiprows, skipfooter, nrows, na_values, keep_default_na, na_filter, verbose, skip_blank_lines, parse_dates, infer_datetime_format, keep_date_col, date_parser, dayfirst, cache_dates, iterator, chunksize, compression, thousands, decimal, lineterminator, quotechar, quoting, doublequote, escapechar, comment, encoding, dialect, error_bad_lines, warn_bad_lines, delim_whitespace, low_memory, memory_map, float_precision)\u001b[0m\n\u001b[1;32m    683\u001b[0m         )\n\u001b[1;32m    684\u001b[0m \u001b[0;34m\u001b[0m\u001b[0m\n\u001b[0;32m--> 685\u001b[0;31m         \u001b[0;32mreturn\u001b[0m \u001b[0m_read\u001b[0m\u001b[0;34m(\u001b[0m\u001b[0mfilepath_or_buffer\u001b[0m\u001b[0;34m,\u001b[0m \u001b[0mkwds\u001b[0m\u001b[0;34m)\u001b[0m\u001b[0;34m\u001b[0m\u001b[0;34m\u001b[0m\u001b[0m\n\u001b[0m\u001b[1;32m    686\u001b[0m \u001b[0;34m\u001b[0m\u001b[0m\n\u001b[1;32m    687\u001b[0m     \u001b[0mparser_f\u001b[0m\u001b[0;34m.\u001b[0m\u001b[0m__name__\u001b[0m \u001b[0;34m=\u001b[0m \u001b[0mname\u001b[0m\u001b[0;34m\u001b[0m\u001b[0;34m\u001b[0m\u001b[0m\n",
      "\u001b[0;32m~/anaconda3/lib/python3.6/site-packages/pandas/io/parsers.py\u001b[0m in \u001b[0;36m_read\u001b[0;34m(filepath_or_buffer, kwds)\u001b[0m\n\u001b[1;32m    455\u001b[0m \u001b[0;34m\u001b[0m\u001b[0m\n\u001b[1;32m    456\u001b[0m     \u001b[0;31m# Create the parser.\u001b[0m\u001b[0;34m\u001b[0m\u001b[0;34m\u001b[0m\u001b[0;34m\u001b[0m\u001b[0m\n\u001b[0;32m--> 457\u001b[0;31m     \u001b[0mparser\u001b[0m \u001b[0;34m=\u001b[0m \u001b[0mTextFileReader\u001b[0m\u001b[0;34m(\u001b[0m\u001b[0mfp_or_buf\u001b[0m\u001b[0;34m,\u001b[0m \u001b[0;34m**\u001b[0m\u001b[0mkwds\u001b[0m\u001b[0;34m)\u001b[0m\u001b[0;34m\u001b[0m\u001b[0;34m\u001b[0m\u001b[0m\n\u001b[0m\u001b[1;32m    458\u001b[0m \u001b[0;34m\u001b[0m\u001b[0m\n\u001b[1;32m    459\u001b[0m     \u001b[0;32mif\u001b[0m \u001b[0mchunksize\u001b[0m \u001b[0;32mor\u001b[0m \u001b[0miterator\u001b[0m\u001b[0;34m:\u001b[0m\u001b[0;34m\u001b[0m\u001b[0;34m\u001b[0m\u001b[0m\n",
      "\u001b[0;32m~/anaconda3/lib/python3.6/site-packages/pandas/io/parsers.py\u001b[0m in \u001b[0;36m__init__\u001b[0;34m(self, f, engine, **kwds)\u001b[0m\n\u001b[1;32m    893\u001b[0m             \u001b[0mself\u001b[0m\u001b[0;34m.\u001b[0m\u001b[0moptions\u001b[0m\u001b[0;34m[\u001b[0m\u001b[0;34m\"has_index_names\"\u001b[0m\u001b[0;34m]\u001b[0m \u001b[0;34m=\u001b[0m \u001b[0mkwds\u001b[0m\u001b[0;34m[\u001b[0m\u001b[0;34m\"has_index_names\"\u001b[0m\u001b[0;34m]\u001b[0m\u001b[0;34m\u001b[0m\u001b[0;34m\u001b[0m\u001b[0m\n\u001b[1;32m    894\u001b[0m \u001b[0;34m\u001b[0m\u001b[0m\n\u001b[0;32m--> 895\u001b[0;31m         \u001b[0mself\u001b[0m\u001b[0;34m.\u001b[0m\u001b[0m_make_engine\u001b[0m\u001b[0;34m(\u001b[0m\u001b[0mself\u001b[0m\u001b[0;34m.\u001b[0m\u001b[0mengine\u001b[0m\u001b[0;34m)\u001b[0m\u001b[0;34m\u001b[0m\u001b[0;34m\u001b[0m\u001b[0m\n\u001b[0m\u001b[1;32m    896\u001b[0m \u001b[0;34m\u001b[0m\u001b[0m\n\u001b[1;32m    897\u001b[0m     \u001b[0;32mdef\u001b[0m \u001b[0mclose\u001b[0m\u001b[0;34m(\u001b[0m\u001b[0mself\u001b[0m\u001b[0;34m)\u001b[0m\u001b[0;34m:\u001b[0m\u001b[0;34m\u001b[0m\u001b[0;34m\u001b[0m\u001b[0m\n",
      "\u001b[0;32m~/anaconda3/lib/python3.6/site-packages/pandas/io/parsers.py\u001b[0m in \u001b[0;36m_make_engine\u001b[0;34m(self, engine)\u001b[0m\n\u001b[1;32m   1133\u001b[0m     \u001b[0;32mdef\u001b[0m \u001b[0m_make_engine\u001b[0m\u001b[0;34m(\u001b[0m\u001b[0mself\u001b[0m\u001b[0;34m,\u001b[0m \u001b[0mengine\u001b[0m\u001b[0;34m=\u001b[0m\u001b[0;34m\"c\"\u001b[0m\u001b[0;34m)\u001b[0m\u001b[0;34m:\u001b[0m\u001b[0;34m\u001b[0m\u001b[0;34m\u001b[0m\u001b[0m\n\u001b[1;32m   1134\u001b[0m         \u001b[0;32mif\u001b[0m \u001b[0mengine\u001b[0m \u001b[0;34m==\u001b[0m \u001b[0;34m\"c\"\u001b[0m\u001b[0;34m:\u001b[0m\u001b[0;34m\u001b[0m\u001b[0;34m\u001b[0m\u001b[0m\n\u001b[0;32m-> 1135\u001b[0;31m             \u001b[0mself\u001b[0m\u001b[0;34m.\u001b[0m\u001b[0m_engine\u001b[0m \u001b[0;34m=\u001b[0m \u001b[0mCParserWrapper\u001b[0m\u001b[0;34m(\u001b[0m\u001b[0mself\u001b[0m\u001b[0;34m.\u001b[0m\u001b[0mf\u001b[0m\u001b[0;34m,\u001b[0m \u001b[0;34m**\u001b[0m\u001b[0mself\u001b[0m\u001b[0;34m.\u001b[0m\u001b[0moptions\u001b[0m\u001b[0;34m)\u001b[0m\u001b[0;34m\u001b[0m\u001b[0;34m\u001b[0m\u001b[0m\n\u001b[0m\u001b[1;32m   1136\u001b[0m         \u001b[0;32melse\u001b[0m\u001b[0;34m:\u001b[0m\u001b[0;34m\u001b[0m\u001b[0;34m\u001b[0m\u001b[0m\n\u001b[1;32m   1137\u001b[0m             \u001b[0;32mif\u001b[0m \u001b[0mengine\u001b[0m \u001b[0;34m==\u001b[0m \u001b[0;34m\"python\"\u001b[0m\u001b[0;34m:\u001b[0m\u001b[0;34m\u001b[0m\u001b[0;34m\u001b[0m\u001b[0m\n",
      "\u001b[0;32m~/anaconda3/lib/python3.6/site-packages/pandas/io/parsers.py\u001b[0m in \u001b[0;36m__init__\u001b[0;34m(self, src, **kwds)\u001b[0m\n\u001b[1;32m   1915\u001b[0m         \u001b[0mkwds\u001b[0m\u001b[0;34m[\u001b[0m\u001b[0;34m\"usecols\"\u001b[0m\u001b[0;34m]\u001b[0m \u001b[0;34m=\u001b[0m \u001b[0mself\u001b[0m\u001b[0;34m.\u001b[0m\u001b[0musecols\u001b[0m\u001b[0;34m\u001b[0m\u001b[0;34m\u001b[0m\u001b[0m\n\u001b[1;32m   1916\u001b[0m \u001b[0;34m\u001b[0m\u001b[0m\n\u001b[0;32m-> 1917\u001b[0;31m         \u001b[0mself\u001b[0m\u001b[0;34m.\u001b[0m\u001b[0m_reader\u001b[0m \u001b[0;34m=\u001b[0m \u001b[0mparsers\u001b[0m\u001b[0;34m.\u001b[0m\u001b[0mTextReader\u001b[0m\u001b[0;34m(\u001b[0m\u001b[0msrc\u001b[0m\u001b[0;34m,\u001b[0m \u001b[0;34m**\u001b[0m\u001b[0mkwds\u001b[0m\u001b[0;34m)\u001b[0m\u001b[0;34m\u001b[0m\u001b[0;34m\u001b[0m\u001b[0m\n\u001b[0m\u001b[1;32m   1918\u001b[0m         \u001b[0mself\u001b[0m\u001b[0;34m.\u001b[0m\u001b[0munnamed_cols\u001b[0m \u001b[0;34m=\u001b[0m \u001b[0mself\u001b[0m\u001b[0;34m.\u001b[0m\u001b[0m_reader\u001b[0m\u001b[0;34m.\u001b[0m\u001b[0munnamed_cols\u001b[0m\u001b[0;34m\u001b[0m\u001b[0;34m\u001b[0m\u001b[0m\n\u001b[1;32m   1919\u001b[0m \u001b[0;34m\u001b[0m\u001b[0m\n",
      "\u001b[0;32mpandas/_libs/parsers.pyx\u001b[0m in \u001b[0;36mpandas._libs.parsers.TextReader.__cinit__\u001b[0;34m()\u001b[0m\n",
      "\u001b[0;32mpandas/_libs/parsers.pyx\u001b[0m in \u001b[0;36mpandas._libs.parsers.TextReader._setup_parser_source\u001b[0;34m()\u001b[0m\n",
      "\u001b[0;31mFileNotFoundError\u001b[0m: [Errno 2] File b'stock_prices_8.csv' does not exist: b'stock_prices_8.csv'"
     ]
    }
   ],
   "source": [
    "# Load stocks dataframe\n",
    "\n",
    "df_stocks = pd.read_csv(\"stock_prices_8.csv\")"
   ]
  },
  {
   "cell_type": "code",
   "execution_count": null,
   "metadata": {},
   "outputs": [],
   "source": [
    "# Create stock price relatives\n",
    "\n",
    "def compute_price_relatives(df):\n",
    "    \n",
    "    df = df.copy(deep=True)\n",
    "\n",
    "    for stock in list(df.columns)[1:]:\n",
    "        df[stock] = df[stock]/df[stock].shift(+1)\n",
    "    \n",
    "    df = df.iloc[1:, :]\n",
    "    \n",
    "    return df"
   ]
  },
  {
   "cell_type": "code",
   "execution_count": null,
   "metadata": {},
   "outputs": [],
   "source": [
    "def plot_stock_performance(df_stocks, stocks, title_text, yaxis_text):\n",
    "\n",
    "    fig = go.Figure()\n",
    "    \n",
    "    fig.add_trace(go.Scatter(x=df_stocks[\"Date\"],\n",
    "                             y=df_stocks[stocks[0]],\n",
    "                             mode='lines',\n",
    "                             name=stocks[0]))\n",
    "    \n",
    "    fig.add_trace(go.Scatter(x=df_stocks[\"Date\"],\n",
    "                             y=df_stocks[stocks[1]],\n",
    "                             mode='lines',\n",
    "                             name=stocks[1]))\n",
    "    \n",
    "    fig.update_layout(title=title_text, yaxis_title=yaxis_text)\n",
    "    \n",
    "    return fig"
   ]
  },
  {
   "cell_type": "markdown",
   "metadata": {},
   "source": [
    "### Constantly Rebalanced Portfolio in Hindsight"
   ]
  },
  {
   "cell_type": "code",
   "execution_count": null,
   "metadata": {},
   "outputs": [],
   "source": [
    "# What is the optimal constantly rebalanced portfolio allocation b = [b1, 1-b1], such that the compounded growth is maximized?"
   ]
  },
  {
   "cell_type": "code",
   "execution_count": null,
   "metadata": {},
   "outputs": [],
   "source": [
    "def cumulative_wealth_multiple(df_stocks_relatives, b_1, stocks):\n",
    "    \n",
    "    # What is the optimal constantly rebalanced portfolio allocation b = [b1, 1-b1], \n",
    "    # such that the compounded growth is maximized?\n",
    "    \n",
    "    \"\"\"\n",
    "    b1: Amount of stock 1 (as ranked in stocks) in the portfolio\n",
    "    \"\"\"\n",
    "\n",
    "    b_2 = 1 - b_1\n",
    "    b = np.array([b_1, b_2])\n",
    "    \n",
    "    x_1 = np.array(df_stocks_relatives[stocks[0]])\n",
    "    x_2 = np.array(df_stocks_relatives[stocks[1]])\n",
    "    \n",
    "    x_matrix = np.vstack((x_1, x_2))\n",
    "    period_returns = np.array(np.matmul(b, x_matrix))\n",
    "    \n",
    "    return np.prod(period_returns)"
   ]
  },
  {
   "cell_type": "code",
   "execution_count": null,
   "metadata": {},
   "outputs": [],
   "source": [
    "def hindsight_constantly_rebalanced_portfolio(df_stocks_relatives, stocks):\n",
    "\n",
    "    frac_stock_1 = np.arange(0, 1.01, 0.01)\n",
    "    wealth_multiple_hindsight = np.array([cumulative_wealth_multiple(df_stocks_relatives=df_stocks_relatives, \n",
    "                                                                     b_1=b_stock_1, stocks=stocks) for b_stock_1 in frac_stock_1])\n",
    "\n",
    "    df_hindsight = pd.DataFrame(data={\"fraction\": frac_stock_1, \n",
    "                                      \"wealth_multiple\": wealth_multiple_hindsight})\n",
    "    \n",
    "    optimal_alloc_1 = df_hindsight.iloc[df_hindsight['wealth_multiple'].idxmax(), 0]\n",
    "    best_hindsight_multiplier = df_hindsight['wealth_multiple'].max()\n",
    "    \n",
    "    return df_hindsight, optimal_alloc_1, best_hindsight_multiplier"
   ]
  },
  {
   "cell_type": "code",
   "execution_count": null,
   "metadata": {},
   "outputs": [],
   "source": [
    "def plot_optimal_hindsight_rebalanced_portfolio(df_hindsight, stocks):\n",
    "\n",
    "    fig = go.Figure()\n",
    "\n",
    "    fig.add_trace(go.Scatter(x=df_hindsight[\"fraction\"],\n",
    "                             y=df_hindsight[\"wealth_multiple\"],\n",
    "                             mode='markers+lines',\n",
    "                             name=stocks[0]))\n",
    "    \n",
    "    fig.update_layout(title=\"Wealth Multiplier of Constantly Rebalanced Portfolio in Hindsight\", \n",
    "                      yaxis_title=\"Wealth Multiple at the end of period\",\n",
    "                      xaxis_title= \"Fraction of Portfolio in \" + stocks[0])\n",
    "    \n",
    "    return fig"
   ]
  },
  {
   "cell_type": "markdown",
   "metadata": {},
   "source": [
    "## Tom Cover Universal Portfolio Strategy"
   ]
  },
  {
   "cell_type": "code",
   "execution_count": null,
   "metadata": {},
   "outputs": [],
   "source": [
    "def S_k(b_k, x_k):\n",
    "    \n",
    "    \"\"\"\n",
    "    b_k = [b_1_k, b_2_k] portfolio allocation at time step k\n",
    "    x_k = [x_1_k, x_2_k]^k wealth multiplier at time step k\n",
    "    \"\"\"\n",
    "    \n",
    "    return np.prod(np.matmul(b_k, x_k))"
   ]
  },
  {
   "cell_type": "code",
   "execution_count": null,
   "metadata": {},
   "outputs": [],
   "source": [
    "def S_n(b_n, x_n, n):\n",
    "    \n",
    "    \"\"\"\n",
    "    Computes the final wealth factor after n steps\n",
    "    \n",
    "    b_n = list containing arrays of b_k\n",
    "    x_k = observed wealth multiplier of sequences\n",
    "    \"\"\"\n",
    "    product_term = []\n",
    "    \n",
    "    for k in range(1, n+1):\n",
    "        b_k = b_n[k-1]\n",
    "        x_k = x_n[:, k-1]\n",
    "        product_term.append(np.matmul(b_k, x_k))\n",
    "        \n",
    "    result = np.prod(np.array(product_term))\n",
    "    \n",
    "    return result"
   ]
  },
  {
   "cell_type": "code",
   "execution_count": null,
   "metadata": {},
   "outputs": [],
   "source": [
    "def b_next(x_n, k, number_of_splits=20):\n",
    "    \n",
    "    \"\"\"\n",
    "    Rebalanced portfolio of securities at each time steps (only for m = 2)\n",
    "    \n",
    "    The integral over interval [0,1] is split into \"number_of_splits\" chunks\n",
    "    \n",
    "    x_n = matrix of relative performance (m x n : m stocks and n days)\n",
    "    k = index of current timestep\n",
    "    number_of_splits = controls the resolution of the integration\n",
    "    \"\"\"\n",
    "    \n",
    "    # Calculate Numerator and Denominator \n",
    "    \n",
    "    numerator_terms = []\n",
    "    denominator_terms = []\n",
    "    \n",
    "    for i in range(0, number_of_splits+1):\n",
    "        b_i = np.array([i/number_of_splits, 1 - i/number_of_splits])\n",
    "        x_k = x_n[:, 0:k] # only up to k is used because we are trying to predict k+1\n",
    "        numerator_terms.append(i / number_of_splits * S_k(b_i, x_k))\n",
    "        denominator_terms.append(S_k(b_i, x_k))\n",
    "    \n",
    "    weighted_num = np.sum(np.array(numerator_terms))\n",
    "    all_portfolios_denom = np.sum(np.array(denominator_terms))\n",
    "    \n",
    "    return np.array([weighted_num/all_portfolios_denom, 1 - weighted_num/all_portfolios_denom])"
   ]
  },
  {
   "cell_type": "code",
   "execution_count": null,
   "metadata": {},
   "outputs": [],
   "source": [
    "# # Test Case\n",
    "\n",
    "# temp_b = [np.array([1,0]), np.array([0,1]), np.array([0,1])]\n",
    "# temp_x = x_n[:, 0:3]\n",
    "# S_n(temp_b, temp_x, n=1)\n",
    "\n",
    "# # Test\n",
    "\n",
    "# b_next(x_n=x_n, k=5030)"
   ]
  },
  {
   "cell_type": "code",
   "execution_count": null,
   "metadata": {},
   "outputs": [],
   "source": [
    "def optimal_rebalancing_strategy(df_stocks_relatives, \n",
    "                                 stocks, \n",
    "                                 number_of_splits=50, \n",
    "                                 b_init=np.array([0.50, 0.50])):\n",
    "    \n",
    "    x_1 = np.array(df_stocks_relatives[stocks[0]])\n",
    "    x_2 = np.array(df_stocks_relatives[stocks[1]])\n",
    "    x_n = np.vstack((x_1, x_2))\n",
    "\n",
    "    # Simulate the whole trajectory now. We start with b_0 and obtain consecutive non-anticipating rebalancing portfolios\n",
    "\n",
    "    all_b = []\n",
    "    all_b.append(b_init)\n",
    "\n",
    "    # Auxillary Variables\n",
    "\n",
    "    total_runs = x_n.shape[1]\n",
    "    universal_wealth_multiple = []\n",
    "\n",
    "    for k in range(1, total_runs+1):\n",
    "\n",
    "        if k % 500 == 0:\n",
    "            print(\"{} Runs Remaining\".format(total_runs-k))\n",
    "\n",
    "        b_inc = b_next(x_n, k, number_of_splits=number_of_splits)\n",
    "        all_b.append(b_inc)\n",
    "        universal_wealth_multiple.append(S_n(all_b, x_n, n=k))  \n",
    "    \n",
    "    return universal_wealth_multiple, all_b"
   ]
  },
  {
   "cell_type": "code",
   "execution_count": null,
   "metadata": {},
   "outputs": [],
   "source": [
    "def postprocess_output_for_two_stocks(df_stocks_relatives, stocks, df_stocks, \n",
    "                                      universal_wealth_multiple, all_b):\n",
    "\n",
    "    # Universal Wealth Multiple DataFrame\n",
    "    \n",
    "    x_1 = np.array(df_stocks_relatives[stocks[0]])\n",
    "    x_2 = np.array(df_stocks_relatives[stocks[1]])\n",
    "    universal_mult = np.array(universal_wealth_multiple)\n",
    "    stock_1 = [np.prod(x_1[0:i]) for i in range(1, x_1.shape[0]+1)]\n",
    "    stock_2 = [np.prod(x_2[0:i]) for i in range(1, x_2.shape[0]+1)]\n",
    "    \n",
    "    df_wealth_multiplier = pd.DataFrame(data={\"universal_portfolio\": universal_mult,\n",
    "                                             \"stock_1_only\": stock_1, \n",
    "                                             \"stock_2_only\": stock_2\n",
    "                                             })\n",
    "    \n",
    "    df_wealth_multiplier[\"Date\"] = df_stocks_relatives[\"Date\"]\n",
    "\n",
    "    # Portfolio Weights\n",
    "    \n",
    "    frac_stock_1 = [b[0] for b in all_b]\n",
    "    frac_stock_2 = [b[1] for b in all_b]\n",
    "    \n",
    "    df_portfolio_weight = pd.DataFrame(data={stocks[0]: frac_stock_1, \n",
    "                                            stocks[1]: frac_stock_2})\n",
    "    \n",
    "    df_portfolio_weight[\"Date\"] = df_stocks_relatives[\"Date\"]\n",
    "    \n",
    "    # Minor refurbishing of date column\n",
    "    \n",
    "    df_wealth_multiplier.at[0, \"Date\"] = df_stocks[\"Date\"][0]\n",
    "    df_portfolio_weight.at[0, \"Date\"] = df_stocks[\"Date\"][0]\n",
    "    \n",
    "    return df_wealth_multiplier, df_portfolio_weight"
   ]
  },
  {
   "cell_type": "code",
   "execution_count": null,
   "metadata": {},
   "outputs": [],
   "source": [
    "def plot_wealth_multiplier(df_wealth_multiplier, stocks, \n",
    "                           title_text=\"Wealth Multiplier\", yaxis_text=\"Multiplier\"):\n",
    "\n",
    "    fig = go.Figure()\n",
    "\n",
    "    fig.add_trace(go.Scatter(x=df_wealth_multiplier[\"Date\"],\n",
    "                             y=df_wealth_multiplier[\"universal_portfolio\"],\n",
    "                             mode='lines',\n",
    "                             name=\"Universal Portfolio\", \n",
    "                             marker=dict(color='Black')))\n",
    "\n",
    "    fig.add_trace(go.Scatter(x=df_wealth_multiplier[\"Date\"],\n",
    "                             y=df_wealth_multiplier[\"stock_1_only\"],\n",
    "                             mode='lines',\n",
    "                             name=stocks[0], \n",
    "                             marker=dict(color='Red')))\n",
    "\n",
    "    fig.add_trace(go.Scatter(x=df_wealth_multiplier[\"Date\"],\n",
    "                             y=df_wealth_multiplier[\"stock_2_only\"],\n",
    "                             mode='lines',\n",
    "                             name=stocks[1], \n",
    "                             marker=dict(color='Blue')))\n",
    "\n",
    "    fig.update_layout(title=title_text, yaxis_title=yaxis_text)\n",
    "    \n",
    "    return fig"
   ]
  },
  {
   "cell_type": "code",
   "execution_count": null,
   "metadata": {
    "scrolled": true
   },
   "outputs": [],
   "source": [
    "def plot_portfolio_allocation(df_portfolio_weight, stocks, \n",
    "                           title_text=\"Portfolio Weight\", yaxis_text=\"Fraction of Portfolio (%) in \"):\n",
    "\n",
    "    fig = go.Figure()\n",
    "\n",
    "    fig.add_trace(go.Scatter(x=df_portfolio_weight[\"Date\"],\n",
    "                             y=df_portfolio_weight[stocks[0]],\n",
    "                             mode='lines',\n",
    "                             name=stocks[0], \n",
    "                             marker=dict(color='Red')))\n",
    "\n",
    "    fig.update_layout(title=title_text, yaxis_title= yaxis_text + stocks[0])\n",
    "    \n",
    "    return fig"
   ]
  },
  {
   "cell_type": "markdown",
   "metadata": {},
   "source": [
    "## MAIN CODE"
   ]
  },
  {
   "cell_type": "code",
   "execution_count": 171,
   "metadata": {},
   "outputs": [],
   "source": [
    "def main(stocks):\n",
    "\n",
    "    # Load stocks dataframe\n",
    "\n",
    "    # stocks = [\"AMZN\", \"AAPL\"]\n",
    "\n",
    "    # Load Stock Data\n",
    "\n",
    "    df_stocks = pd.read_csv(\"./data/stock_prices_8.csv\")\n",
    "    df_stocks_relatives = compute_price_relatives(df_stocks)\n",
    "\n",
    "\n",
    "    prelim_stock = plot_stock_performance(df_stocks, stocks, \n",
    "                                          title_text=\"Stock Price\", \n",
    "                                          yaxis_text=\"Stock Price ($)\")\n",
    "\n",
    "    prelim_multiplier = plot_stock_performance(df_stocks_relatives, stocks, \n",
    "                           title_text=\"Wealth Multiplier\", \n",
    "                           yaxis_text=\"Daily Wealth Multiple\")\n",
    "\n",
    "    # Optimal Constantly Rebalanced\n",
    "\n",
    "    df_hindsight, optimal_alloc, best_multiplier = hindsight_constantly_rebalanced_portfolio(\n",
    "        df_stocks_relatives, \n",
    "        stocks)\n",
    "\n",
    "    hindsight_optimal = plot_optimal_hindsight_rebalanced_portfolio(df_hindsight, stocks)\n",
    "\n",
    "    # Universal Portfolios\n",
    "\n",
    "    universal_wealth_multiple, all_b = optimal_rebalancing_strategy(df_stocks_relatives, stocks)\n",
    "\n",
    "    df_wealth_multiplier, df_portfolio_weight = postprocess_output_for_two_stocks(\n",
    "        df_stocks_relatives, stocks, df_stocks, universal_wealth_multiple, all_b)\n",
    "\n",
    "    universal_multiplier = plot_wealth_multiplier(df_wealth_multiplier, stocks)\n",
    "    universal_allocation = plot_portfolio_allocation(df_portfolio_weight, stocks)\n",
    "\n",
    "    return prelim_stock, prelim_multiplier, hindsight_optimal, universal_multiplier, universal_allocation"
   ]
  },
  {
   "cell_type": "code",
   "execution_count": 173,
   "metadata": {},
   "outputs": [
    {
     "data": {
      "application/vnd.plotly.v1+json": {
       "config": {
        "plotlyServerURL": "https://plot.ly"
       },
       "data": [
        {
         "mode": "markers+lines",
         "name": "AMZN",
         "type": "scatter",
         "x": [
          0,
          0.01,
          0.02,
          0.03,
          0.04,
          0.05,
          0.06,
          0.07,
          0.08,
          0.09,
          0.1,
          0.11,
          0.12,
          0.13,
          0.14,
          0.15,
          0.16,
          0.17,
          0.18,
          0.19,
          0.2,
          0.21,
          0.22,
          0.23,
          0.24,
          0.25,
          0.26,
          0.27,
          0.28,
          0.29,
          0.3,
          0.31,
          0.32,
          0.33,
          0.34,
          0.35000000000000003,
          0.36,
          0.37,
          0.38,
          0.39,
          0.4,
          0.41000000000000003,
          0.42,
          0.43,
          0.44,
          0.45,
          0.46,
          0.47000000000000003,
          0.48,
          0.49,
          0.5,
          0.51,
          0.52,
          0.53,
          0.54,
          0.55,
          0.56,
          0.5700000000000001,
          0.58,
          0.59,
          0.6,
          0.61,
          0.62,
          0.63,
          0.64,
          0.65,
          0.66,
          0.67,
          0.68,
          0.6900000000000001,
          0.7000000000000001,
          0.71,
          0.72,
          0.73,
          0.74,
          0.75,
          0.76,
          0.77,
          0.78,
          0.79,
          0.8,
          0.81,
          0.8200000000000001,
          0.8300000000000001,
          0.84,
          0.85,
          0.86,
          0.87,
          0.88,
          0.89,
          0.9,
          0.91,
          0.92,
          0.93,
          0.9400000000000001,
          0.9500000000000001,
          0.96,
          0.97,
          0.98,
          0.99,
          1
         ],
         "y": [
          122.4563353870037,
          125.62216142054271,
          128.7927971868924,
          131.96482007756146,
          135.13473304599813,
          138.29897071099762,
          141.45390575830632,
          144.59585562526536,
          147.72108945221342,
          150.8258352826286,
          153.90628749422314,
          156.95861443953032,
          159.97896627616421,
          162.9634829641808,
          165.90830240763378,
          168.8095687166603,
          171.6634405655766,
          174.4660996214205,
          177.2137590178806,
          179.9026718474585,
          182.52913964662073,
          185.08952084562148,
          187.58023915728583,
          189.99779187694813,
          192.33875806722378,
          194.5998066007254,
          196.77770403400652,
          198.8693222873592,
          200.87164610455787,
          202.78178026784866,
          204.59695654446335,
          206.31454034053493,
          207.93203704129462,
          209.4470980154308,
          210.85752626385604,
          212.1612816938941,
          213.35648600141536,
          214.44142714417097,
          215.41456339264067,
          216.27452694372278,
          217.02012708655815,
          217.65035290989314,
          218.16437554274376,
          218.56154992108364,
          218.8414160764568,
          219.00369994191306,
          219.0483136745143,
          218.97535549419615,
          218.78510904081395,
          218.4780422532618,
          218.05480577505224,
          217.51623089445874,
          216.86332702686133,
          216.09727874982397,
          215.21944240247345,
          214.23134226239821,
          213.1346663145347,
          211.93126162812226,
          210.62312935870202,
          209.21241939374138,
          207.7014246612573,
          206.0925751219697,
          204.38843146640815,
          202.5916785392819,
          200.70511851403433,
          198.7316638412433,
          196.6743299950112,
          194.53622804193634,
          192.32055705748252,
          190.03059641497674,
          187.66969797232866,
          185.2412781818101,
          182.74881014792683,
          180.1958156584127,
          177.58585721296254,
          174.92253007394527,
          172.2094543629669,
          169.4502672264372,
          166.64861509278583,
          163.80814604316848,
          160.93250231672516,
          158.0253129706076,
          155.09018671403254,
          152.1307049346259,
          149.15041493432605,
          146.15282339093642,
          143.14139006041512,
          140.11952173364426,
          137.09056646042202,
          134.05780805205478,
          131.02446087273208,
          127.99366492864881,
          124.9684812625408,
          121.95188766006332,
          118.94677467320746,
          115.95594196467225,
          112.98209497589494,
          110.02784192033491,
          107.095691102227,
          104.18804856011756,
          101.30721603319644
         ]
        }
       ],
       "layout": {
        "template": {
         "data": {
          "bar": [
           {
            "error_x": {
             "color": "#2a3f5f"
            },
            "error_y": {
             "color": "#2a3f5f"
            },
            "marker": {
             "line": {
              "color": "#E5ECF6",
              "width": 0.5
             }
            },
            "type": "bar"
           }
          ],
          "barpolar": [
           {
            "marker": {
             "line": {
              "color": "#E5ECF6",
              "width": 0.5
             }
            },
            "type": "barpolar"
           }
          ],
          "carpet": [
           {
            "aaxis": {
             "endlinecolor": "#2a3f5f",
             "gridcolor": "white",
             "linecolor": "white",
             "minorgridcolor": "white",
             "startlinecolor": "#2a3f5f"
            },
            "baxis": {
             "endlinecolor": "#2a3f5f",
             "gridcolor": "white",
             "linecolor": "white",
             "minorgridcolor": "white",
             "startlinecolor": "#2a3f5f"
            },
            "type": "carpet"
           }
          ],
          "choropleth": [
           {
            "colorbar": {
             "outlinewidth": 0,
             "ticks": ""
            },
            "type": "choropleth"
           }
          ],
          "contour": [
           {
            "colorbar": {
             "outlinewidth": 0,
             "ticks": ""
            },
            "colorscale": [
             [
              0,
              "#0d0887"
             ],
             [
              0.1111111111111111,
              "#46039f"
             ],
             [
              0.2222222222222222,
              "#7201a8"
             ],
             [
              0.3333333333333333,
              "#9c179e"
             ],
             [
              0.4444444444444444,
              "#bd3786"
             ],
             [
              0.5555555555555556,
              "#d8576b"
             ],
             [
              0.6666666666666666,
              "#ed7953"
             ],
             [
              0.7777777777777778,
              "#fb9f3a"
             ],
             [
              0.8888888888888888,
              "#fdca26"
             ],
             [
              1,
              "#f0f921"
             ]
            ],
            "type": "contour"
           }
          ],
          "contourcarpet": [
           {
            "colorbar": {
             "outlinewidth": 0,
             "ticks": ""
            },
            "type": "contourcarpet"
           }
          ],
          "heatmap": [
           {
            "colorbar": {
             "outlinewidth": 0,
             "ticks": ""
            },
            "colorscale": [
             [
              0,
              "#0d0887"
             ],
             [
              0.1111111111111111,
              "#46039f"
             ],
             [
              0.2222222222222222,
              "#7201a8"
             ],
             [
              0.3333333333333333,
              "#9c179e"
             ],
             [
              0.4444444444444444,
              "#bd3786"
             ],
             [
              0.5555555555555556,
              "#d8576b"
             ],
             [
              0.6666666666666666,
              "#ed7953"
             ],
             [
              0.7777777777777778,
              "#fb9f3a"
             ],
             [
              0.8888888888888888,
              "#fdca26"
             ],
             [
              1,
              "#f0f921"
             ]
            ],
            "type": "heatmap"
           }
          ],
          "heatmapgl": [
           {
            "colorbar": {
             "outlinewidth": 0,
             "ticks": ""
            },
            "colorscale": [
             [
              0,
              "#0d0887"
             ],
             [
              0.1111111111111111,
              "#46039f"
             ],
             [
              0.2222222222222222,
              "#7201a8"
             ],
             [
              0.3333333333333333,
              "#9c179e"
             ],
             [
              0.4444444444444444,
              "#bd3786"
             ],
             [
              0.5555555555555556,
              "#d8576b"
             ],
             [
              0.6666666666666666,
              "#ed7953"
             ],
             [
              0.7777777777777778,
              "#fb9f3a"
             ],
             [
              0.8888888888888888,
              "#fdca26"
             ],
             [
              1,
              "#f0f921"
             ]
            ],
            "type": "heatmapgl"
           }
          ],
          "histogram": [
           {
            "marker": {
             "colorbar": {
              "outlinewidth": 0,
              "ticks": ""
             }
            },
            "type": "histogram"
           }
          ],
          "histogram2d": [
           {
            "colorbar": {
             "outlinewidth": 0,
             "ticks": ""
            },
            "colorscale": [
             [
              0,
              "#0d0887"
             ],
             [
              0.1111111111111111,
              "#46039f"
             ],
             [
              0.2222222222222222,
              "#7201a8"
             ],
             [
              0.3333333333333333,
              "#9c179e"
             ],
             [
              0.4444444444444444,
              "#bd3786"
             ],
             [
              0.5555555555555556,
              "#d8576b"
             ],
             [
              0.6666666666666666,
              "#ed7953"
             ],
             [
              0.7777777777777778,
              "#fb9f3a"
             ],
             [
              0.8888888888888888,
              "#fdca26"
             ],
             [
              1,
              "#f0f921"
             ]
            ],
            "type": "histogram2d"
           }
          ],
          "histogram2dcontour": [
           {
            "colorbar": {
             "outlinewidth": 0,
             "ticks": ""
            },
            "colorscale": [
             [
              0,
              "#0d0887"
             ],
             [
              0.1111111111111111,
              "#46039f"
             ],
             [
              0.2222222222222222,
              "#7201a8"
             ],
             [
              0.3333333333333333,
              "#9c179e"
             ],
             [
              0.4444444444444444,
              "#bd3786"
             ],
             [
              0.5555555555555556,
              "#d8576b"
             ],
             [
              0.6666666666666666,
              "#ed7953"
             ],
             [
              0.7777777777777778,
              "#fb9f3a"
             ],
             [
              0.8888888888888888,
              "#fdca26"
             ],
             [
              1,
              "#f0f921"
             ]
            ],
            "type": "histogram2dcontour"
           }
          ],
          "mesh3d": [
           {
            "colorbar": {
             "outlinewidth": 0,
             "ticks": ""
            },
            "type": "mesh3d"
           }
          ],
          "parcoords": [
           {
            "line": {
             "colorbar": {
              "outlinewidth": 0,
              "ticks": ""
             }
            },
            "type": "parcoords"
           }
          ],
          "pie": [
           {
            "automargin": true,
            "type": "pie"
           }
          ],
          "scatter": [
           {
            "marker": {
             "colorbar": {
              "outlinewidth": 0,
              "ticks": ""
             }
            },
            "type": "scatter"
           }
          ],
          "scatter3d": [
           {
            "line": {
             "colorbar": {
              "outlinewidth": 0,
              "ticks": ""
             }
            },
            "marker": {
             "colorbar": {
              "outlinewidth": 0,
              "ticks": ""
             }
            },
            "type": "scatter3d"
           }
          ],
          "scattercarpet": [
           {
            "marker": {
             "colorbar": {
              "outlinewidth": 0,
              "ticks": ""
             }
            },
            "type": "scattercarpet"
           }
          ],
          "scattergeo": [
           {
            "marker": {
             "colorbar": {
              "outlinewidth": 0,
              "ticks": ""
             }
            },
            "type": "scattergeo"
           }
          ],
          "scattergl": [
           {
            "marker": {
             "colorbar": {
              "outlinewidth": 0,
              "ticks": ""
             }
            },
            "type": "scattergl"
           }
          ],
          "scattermapbox": [
           {
            "marker": {
             "colorbar": {
              "outlinewidth": 0,
              "ticks": ""
             }
            },
            "type": "scattermapbox"
           }
          ],
          "scatterpolar": [
           {
            "marker": {
             "colorbar": {
              "outlinewidth": 0,
              "ticks": ""
             }
            },
            "type": "scatterpolar"
           }
          ],
          "scatterpolargl": [
           {
            "marker": {
             "colorbar": {
              "outlinewidth": 0,
              "ticks": ""
             }
            },
            "type": "scatterpolargl"
           }
          ],
          "scatterternary": [
           {
            "marker": {
             "colorbar": {
              "outlinewidth": 0,
              "ticks": ""
             }
            },
            "type": "scatterternary"
           }
          ],
          "surface": [
           {
            "colorbar": {
             "outlinewidth": 0,
             "ticks": ""
            },
            "colorscale": [
             [
              0,
              "#0d0887"
             ],
             [
              0.1111111111111111,
              "#46039f"
             ],
             [
              0.2222222222222222,
              "#7201a8"
             ],
             [
              0.3333333333333333,
              "#9c179e"
             ],
             [
              0.4444444444444444,
              "#bd3786"
             ],
             [
              0.5555555555555556,
              "#d8576b"
             ],
             [
              0.6666666666666666,
              "#ed7953"
             ],
             [
              0.7777777777777778,
              "#fb9f3a"
             ],
             [
              0.8888888888888888,
              "#fdca26"
             ],
             [
              1,
              "#f0f921"
             ]
            ],
            "type": "surface"
           }
          ],
          "table": [
           {
            "cells": {
             "fill": {
              "color": "#EBF0F8"
             },
             "line": {
              "color": "white"
             }
            },
            "header": {
             "fill": {
              "color": "#C8D4E3"
             },
             "line": {
              "color": "white"
             }
            },
            "type": "table"
           }
          ]
         },
         "layout": {
          "annotationdefaults": {
           "arrowcolor": "#2a3f5f",
           "arrowhead": 0,
           "arrowwidth": 1
          },
          "coloraxis": {
           "colorbar": {
            "outlinewidth": 0,
            "ticks": ""
           }
          },
          "colorscale": {
           "diverging": [
            [
             0,
             "#8e0152"
            ],
            [
             0.1,
             "#c51b7d"
            ],
            [
             0.2,
             "#de77ae"
            ],
            [
             0.3,
             "#f1b6da"
            ],
            [
             0.4,
             "#fde0ef"
            ],
            [
             0.5,
             "#f7f7f7"
            ],
            [
             0.6,
             "#e6f5d0"
            ],
            [
             0.7,
             "#b8e186"
            ],
            [
             0.8,
             "#7fbc41"
            ],
            [
             0.9,
             "#4d9221"
            ],
            [
             1,
             "#276419"
            ]
           ],
           "sequential": [
            [
             0,
             "#0d0887"
            ],
            [
             0.1111111111111111,
             "#46039f"
            ],
            [
             0.2222222222222222,
             "#7201a8"
            ],
            [
             0.3333333333333333,
             "#9c179e"
            ],
            [
             0.4444444444444444,
             "#bd3786"
            ],
            [
             0.5555555555555556,
             "#d8576b"
            ],
            [
             0.6666666666666666,
             "#ed7953"
            ],
            [
             0.7777777777777778,
             "#fb9f3a"
            ],
            [
             0.8888888888888888,
             "#fdca26"
            ],
            [
             1,
             "#f0f921"
            ]
           ],
           "sequentialminus": [
            [
             0,
             "#0d0887"
            ],
            [
             0.1111111111111111,
             "#46039f"
            ],
            [
             0.2222222222222222,
             "#7201a8"
            ],
            [
             0.3333333333333333,
             "#9c179e"
            ],
            [
             0.4444444444444444,
             "#bd3786"
            ],
            [
             0.5555555555555556,
             "#d8576b"
            ],
            [
             0.6666666666666666,
             "#ed7953"
            ],
            [
             0.7777777777777778,
             "#fb9f3a"
            ],
            [
             0.8888888888888888,
             "#fdca26"
            ],
            [
             1,
             "#f0f921"
            ]
           ]
          },
          "colorway": [
           "#636efa",
           "#EF553B",
           "#00cc96",
           "#ab63fa",
           "#FFA15A",
           "#19d3f3",
           "#FF6692",
           "#B6E880",
           "#FF97FF",
           "#FECB52"
          ],
          "font": {
           "color": "#2a3f5f"
          },
          "geo": {
           "bgcolor": "white",
           "lakecolor": "white",
           "landcolor": "#E5ECF6",
           "showlakes": true,
           "showland": true,
           "subunitcolor": "white"
          },
          "hoverlabel": {
           "align": "left"
          },
          "hovermode": "closest",
          "mapbox": {
           "style": "light"
          },
          "paper_bgcolor": "white",
          "plot_bgcolor": "#E5ECF6",
          "polar": {
           "angularaxis": {
            "gridcolor": "white",
            "linecolor": "white",
            "ticks": ""
           },
           "bgcolor": "#E5ECF6",
           "radialaxis": {
            "gridcolor": "white",
            "linecolor": "white",
            "ticks": ""
           }
          },
          "scene": {
           "xaxis": {
            "backgroundcolor": "#E5ECF6",
            "gridcolor": "white",
            "gridwidth": 2,
            "linecolor": "white",
            "showbackground": true,
            "ticks": "",
            "zerolinecolor": "white"
           },
           "yaxis": {
            "backgroundcolor": "#E5ECF6",
            "gridcolor": "white",
            "gridwidth": 2,
            "linecolor": "white",
            "showbackground": true,
            "ticks": "",
            "zerolinecolor": "white"
           },
           "zaxis": {
            "backgroundcolor": "#E5ECF6",
            "gridcolor": "white",
            "gridwidth": 2,
            "linecolor": "white",
            "showbackground": true,
            "ticks": "",
            "zerolinecolor": "white"
           }
          },
          "shapedefaults": {
           "line": {
            "color": "#2a3f5f"
           }
          },
          "ternary": {
           "aaxis": {
            "gridcolor": "white",
            "linecolor": "white",
            "ticks": ""
           },
           "baxis": {
            "gridcolor": "white",
            "linecolor": "white",
            "ticks": ""
           },
           "bgcolor": "#E5ECF6",
           "caxis": {
            "gridcolor": "white",
            "linecolor": "white",
            "ticks": ""
           }
          },
          "title": {
           "x": 0.05
          },
          "xaxis": {
           "automargin": true,
           "gridcolor": "white",
           "linecolor": "white",
           "ticks": "",
           "title": {
            "standoff": 15
           },
           "zerolinecolor": "white",
           "zerolinewidth": 2
          },
          "yaxis": {
           "automargin": true,
           "gridcolor": "white",
           "linecolor": "white",
           "ticks": "",
           "title": {
            "standoff": 15
           },
           "zerolinecolor": "white",
           "zerolinewidth": 2
          }
         }
        },
        "title": {
         "text": "Wealth Multiplier of Constantly Rebalanced Portfolio in Hindsight"
        },
        "xaxis": {
         "title": {
          "text": "Fraction of Portfolio in AMZN"
         }
        },
        "yaxis": {
         "title": {
          "text": "Wealth Multiple at the end of period"
         }
        }
       }
      },
      "text/html": [
       "<div>\n",
       "        \n",
       "        \n",
       "            <div id=\"ebeb8cce-83b2-44d6-bb10-c509f5fcb0f1\" class=\"plotly-graph-div\" style=\"height:525px; width:100%;\"></div>\n",
       "            <script type=\"text/javascript\">\n",
       "                require([\"plotly\"], function(Plotly) {\n",
       "                    window.PLOTLYENV=window.PLOTLYENV || {};\n",
       "                    \n",
       "                if (document.getElementById(\"ebeb8cce-83b2-44d6-bb10-c509f5fcb0f1\")) {\n",
       "                    Plotly.newPlot(\n",
       "                        'ebeb8cce-83b2-44d6-bb10-c509f5fcb0f1',\n",
       "                        [{\"mode\": \"markers+lines\", \"name\": \"AMZN\", \"type\": \"scatter\", \"x\": [0.0, 0.01, 0.02, 0.03, 0.04, 0.05, 0.06, 0.07, 0.08, 0.09, 0.1, 0.11, 0.12, 0.13, 0.14, 0.15, 0.16, 0.17, 0.18, 0.19, 0.2, 0.21, 0.22, 0.23, 0.24, 0.25, 0.26, 0.27, 0.28, 0.29, 0.3, 0.31, 0.32, 0.33, 0.34, 0.35000000000000003, 0.36, 0.37, 0.38, 0.39, 0.4, 0.41000000000000003, 0.42, 0.43, 0.44, 0.45, 0.46, 0.47000000000000003, 0.48, 0.49, 0.5, 0.51, 0.52, 0.53, 0.54, 0.55, 0.56, 0.5700000000000001, 0.58, 0.59, 0.6, 0.61, 0.62, 0.63, 0.64, 0.65, 0.66, 0.67, 0.68, 0.6900000000000001, 0.7000000000000001, 0.71, 0.72, 0.73, 0.74, 0.75, 0.76, 0.77, 0.78, 0.79, 0.8, 0.81, 0.8200000000000001, 0.8300000000000001, 0.84, 0.85, 0.86, 0.87, 0.88, 0.89, 0.9, 0.91, 0.92, 0.93, 0.9400000000000001, 0.9500000000000001, 0.96, 0.97, 0.98, 0.99, 1.0], \"y\": [122.4563353870037, 125.62216142054271, 128.7927971868924, 131.96482007756146, 135.13473304599813, 138.29897071099762, 141.45390575830632, 144.59585562526536, 147.72108945221342, 150.8258352826286, 153.90628749422314, 156.95861443953032, 159.97896627616421, 162.9634829641808, 165.90830240763378, 168.8095687166603, 171.6634405655766, 174.4660996214205, 177.2137590178806, 179.9026718474585, 182.52913964662073, 185.08952084562148, 187.58023915728583, 189.99779187694813, 192.33875806722378, 194.5998066007254, 196.77770403400652, 198.8693222873592, 200.87164610455787, 202.78178026784866, 204.59695654446335, 206.31454034053493, 207.93203704129462, 209.4470980154308, 210.85752626385604, 212.1612816938941, 213.35648600141536, 214.44142714417097, 215.41456339264067, 216.27452694372278, 217.02012708655815, 217.65035290989314, 218.16437554274376, 218.56154992108364, 218.8414160764568, 219.00369994191306, 219.0483136745143, 218.97535549419615, 218.78510904081395, 218.4780422532618, 218.05480577505224, 217.51623089445874, 216.86332702686133, 216.09727874982397, 215.21944240247345, 214.23134226239821, 213.1346663145347, 211.93126162812226, 210.62312935870202, 209.21241939374138, 207.7014246612573, 206.0925751219697, 204.38843146640815, 202.5916785392819, 200.70511851403433, 198.7316638412433, 196.6743299950112, 194.53622804193634, 192.32055705748252, 190.03059641497674, 187.66969797232866, 185.2412781818101, 182.74881014792683, 180.1958156584127, 177.58585721296254, 174.92253007394527, 172.2094543629669, 169.4502672264372, 166.64861509278583, 163.80814604316848, 160.93250231672516, 158.0253129706076, 155.09018671403254, 152.1307049346259, 149.15041493432605, 146.15282339093642, 143.14139006041512, 140.11952173364426, 137.09056646042202, 134.05780805205478, 131.02446087273208, 127.99366492864881, 124.9684812625408, 121.95188766006332, 118.94677467320746, 115.95594196467225, 112.98209497589494, 110.02784192033491, 107.095691102227, 104.18804856011756, 101.30721603319644]}],\n",
       "                        {\"template\": {\"data\": {\"bar\": [{\"error_x\": {\"color\": \"#2a3f5f\"}, \"error_y\": {\"color\": \"#2a3f5f\"}, \"marker\": {\"line\": {\"color\": \"#E5ECF6\", \"width\": 0.5}}, \"type\": \"bar\"}], \"barpolar\": [{\"marker\": {\"line\": {\"color\": \"#E5ECF6\", \"width\": 0.5}}, \"type\": \"barpolar\"}], \"carpet\": [{\"aaxis\": {\"endlinecolor\": \"#2a3f5f\", \"gridcolor\": \"white\", \"linecolor\": \"white\", \"minorgridcolor\": \"white\", \"startlinecolor\": \"#2a3f5f\"}, \"baxis\": {\"endlinecolor\": \"#2a3f5f\", \"gridcolor\": \"white\", \"linecolor\": \"white\", \"minorgridcolor\": \"white\", \"startlinecolor\": \"#2a3f5f\"}, \"type\": \"carpet\"}], \"choropleth\": [{\"colorbar\": {\"outlinewidth\": 0, \"ticks\": \"\"}, \"type\": \"choropleth\"}], \"contour\": [{\"colorbar\": {\"outlinewidth\": 0, \"ticks\": \"\"}, \"colorscale\": [[0.0, \"#0d0887\"], [0.1111111111111111, \"#46039f\"], [0.2222222222222222, \"#7201a8\"], [0.3333333333333333, \"#9c179e\"], [0.4444444444444444, \"#bd3786\"], [0.5555555555555556, \"#d8576b\"], [0.6666666666666666, \"#ed7953\"], [0.7777777777777778, \"#fb9f3a\"], [0.8888888888888888, \"#fdca26\"], [1.0, \"#f0f921\"]], \"type\": \"contour\"}], \"contourcarpet\": [{\"colorbar\": {\"outlinewidth\": 0, \"ticks\": \"\"}, \"type\": \"contourcarpet\"}], \"heatmap\": [{\"colorbar\": {\"outlinewidth\": 0, \"ticks\": \"\"}, \"colorscale\": [[0.0, \"#0d0887\"], [0.1111111111111111, \"#46039f\"], [0.2222222222222222, \"#7201a8\"], [0.3333333333333333, \"#9c179e\"], [0.4444444444444444, \"#bd3786\"], [0.5555555555555556, \"#d8576b\"], [0.6666666666666666, \"#ed7953\"], [0.7777777777777778, \"#fb9f3a\"], [0.8888888888888888, \"#fdca26\"], [1.0, \"#f0f921\"]], \"type\": \"heatmap\"}], \"heatmapgl\": [{\"colorbar\": {\"outlinewidth\": 0, \"ticks\": \"\"}, \"colorscale\": [[0.0, \"#0d0887\"], [0.1111111111111111, \"#46039f\"], [0.2222222222222222, \"#7201a8\"], [0.3333333333333333, \"#9c179e\"], [0.4444444444444444, \"#bd3786\"], [0.5555555555555556, \"#d8576b\"], [0.6666666666666666, \"#ed7953\"], [0.7777777777777778, \"#fb9f3a\"], [0.8888888888888888, \"#fdca26\"], [1.0, \"#f0f921\"]], \"type\": \"heatmapgl\"}], \"histogram\": [{\"marker\": {\"colorbar\": {\"outlinewidth\": 0, \"ticks\": \"\"}}, \"type\": \"histogram\"}], \"histogram2d\": [{\"colorbar\": {\"outlinewidth\": 0, \"ticks\": \"\"}, \"colorscale\": [[0.0, \"#0d0887\"], [0.1111111111111111, \"#46039f\"], [0.2222222222222222, \"#7201a8\"], [0.3333333333333333, \"#9c179e\"], [0.4444444444444444, \"#bd3786\"], [0.5555555555555556, \"#d8576b\"], [0.6666666666666666, \"#ed7953\"], [0.7777777777777778, \"#fb9f3a\"], [0.8888888888888888, \"#fdca26\"], [1.0, \"#f0f921\"]], \"type\": \"histogram2d\"}], \"histogram2dcontour\": [{\"colorbar\": {\"outlinewidth\": 0, \"ticks\": \"\"}, \"colorscale\": [[0.0, \"#0d0887\"], [0.1111111111111111, \"#46039f\"], [0.2222222222222222, \"#7201a8\"], [0.3333333333333333, \"#9c179e\"], [0.4444444444444444, \"#bd3786\"], [0.5555555555555556, \"#d8576b\"], [0.6666666666666666, \"#ed7953\"], [0.7777777777777778, \"#fb9f3a\"], [0.8888888888888888, \"#fdca26\"], [1.0, \"#f0f921\"]], \"type\": \"histogram2dcontour\"}], \"mesh3d\": [{\"colorbar\": {\"outlinewidth\": 0, \"ticks\": \"\"}, \"type\": \"mesh3d\"}], \"parcoords\": [{\"line\": {\"colorbar\": {\"outlinewidth\": 0, \"ticks\": \"\"}}, \"type\": \"parcoords\"}], \"pie\": [{\"automargin\": true, \"type\": \"pie\"}], \"scatter\": [{\"marker\": {\"colorbar\": {\"outlinewidth\": 0, \"ticks\": \"\"}}, \"type\": \"scatter\"}], \"scatter3d\": [{\"line\": {\"colorbar\": {\"outlinewidth\": 0, \"ticks\": \"\"}}, \"marker\": {\"colorbar\": {\"outlinewidth\": 0, \"ticks\": \"\"}}, \"type\": \"scatter3d\"}], \"scattercarpet\": [{\"marker\": {\"colorbar\": {\"outlinewidth\": 0, \"ticks\": \"\"}}, \"type\": \"scattercarpet\"}], \"scattergeo\": [{\"marker\": {\"colorbar\": {\"outlinewidth\": 0, \"ticks\": \"\"}}, \"type\": \"scattergeo\"}], \"scattergl\": [{\"marker\": {\"colorbar\": {\"outlinewidth\": 0, \"ticks\": \"\"}}, \"type\": \"scattergl\"}], \"scattermapbox\": [{\"marker\": {\"colorbar\": {\"outlinewidth\": 0, \"ticks\": \"\"}}, \"type\": \"scattermapbox\"}], \"scatterpolar\": [{\"marker\": {\"colorbar\": {\"outlinewidth\": 0, \"ticks\": \"\"}}, \"type\": \"scatterpolar\"}], \"scatterpolargl\": [{\"marker\": {\"colorbar\": {\"outlinewidth\": 0, \"ticks\": \"\"}}, \"type\": \"scatterpolargl\"}], \"scatterternary\": [{\"marker\": {\"colorbar\": {\"outlinewidth\": 0, \"ticks\": \"\"}}, \"type\": \"scatterternary\"}], \"surface\": [{\"colorbar\": {\"outlinewidth\": 0, \"ticks\": \"\"}, \"colorscale\": [[0.0, \"#0d0887\"], [0.1111111111111111, \"#46039f\"], [0.2222222222222222, \"#7201a8\"], [0.3333333333333333, \"#9c179e\"], [0.4444444444444444, \"#bd3786\"], [0.5555555555555556, \"#d8576b\"], [0.6666666666666666, \"#ed7953\"], [0.7777777777777778, \"#fb9f3a\"], [0.8888888888888888, \"#fdca26\"], [1.0, \"#f0f921\"]], \"type\": \"surface\"}], \"table\": [{\"cells\": {\"fill\": {\"color\": \"#EBF0F8\"}, \"line\": {\"color\": \"white\"}}, \"header\": {\"fill\": {\"color\": \"#C8D4E3\"}, \"line\": {\"color\": \"white\"}}, \"type\": \"table\"}]}, \"layout\": {\"annotationdefaults\": {\"arrowcolor\": \"#2a3f5f\", \"arrowhead\": 0, \"arrowwidth\": 1}, \"coloraxis\": {\"colorbar\": {\"outlinewidth\": 0, \"ticks\": \"\"}}, \"colorscale\": {\"diverging\": [[0, \"#8e0152\"], [0.1, \"#c51b7d\"], [0.2, \"#de77ae\"], [0.3, \"#f1b6da\"], [0.4, \"#fde0ef\"], [0.5, \"#f7f7f7\"], [0.6, \"#e6f5d0\"], [0.7, \"#b8e186\"], [0.8, \"#7fbc41\"], [0.9, \"#4d9221\"], [1, \"#276419\"]], \"sequential\": [[0.0, \"#0d0887\"], [0.1111111111111111, \"#46039f\"], [0.2222222222222222, \"#7201a8\"], [0.3333333333333333, \"#9c179e\"], [0.4444444444444444, \"#bd3786\"], [0.5555555555555556, \"#d8576b\"], [0.6666666666666666, \"#ed7953\"], [0.7777777777777778, \"#fb9f3a\"], [0.8888888888888888, \"#fdca26\"], [1.0, \"#f0f921\"]], \"sequentialminus\": [[0.0, \"#0d0887\"], [0.1111111111111111, \"#46039f\"], [0.2222222222222222, \"#7201a8\"], [0.3333333333333333, \"#9c179e\"], [0.4444444444444444, \"#bd3786\"], [0.5555555555555556, \"#d8576b\"], [0.6666666666666666, \"#ed7953\"], [0.7777777777777778, \"#fb9f3a\"], [0.8888888888888888, \"#fdca26\"], [1.0, \"#f0f921\"]]}, \"colorway\": [\"#636efa\", \"#EF553B\", \"#00cc96\", \"#ab63fa\", \"#FFA15A\", \"#19d3f3\", \"#FF6692\", \"#B6E880\", \"#FF97FF\", \"#FECB52\"], \"font\": {\"color\": \"#2a3f5f\"}, \"geo\": {\"bgcolor\": \"white\", \"lakecolor\": \"white\", \"landcolor\": \"#E5ECF6\", \"showlakes\": true, \"showland\": true, \"subunitcolor\": \"white\"}, \"hoverlabel\": {\"align\": \"left\"}, \"hovermode\": \"closest\", \"mapbox\": {\"style\": \"light\"}, \"paper_bgcolor\": \"white\", \"plot_bgcolor\": \"#E5ECF6\", \"polar\": {\"angularaxis\": {\"gridcolor\": \"white\", \"linecolor\": \"white\", \"ticks\": \"\"}, \"bgcolor\": \"#E5ECF6\", \"radialaxis\": {\"gridcolor\": \"white\", \"linecolor\": \"white\", \"ticks\": \"\"}}, \"scene\": {\"xaxis\": {\"backgroundcolor\": \"#E5ECF6\", \"gridcolor\": \"white\", \"gridwidth\": 2, \"linecolor\": \"white\", \"showbackground\": true, \"ticks\": \"\", \"zerolinecolor\": \"white\"}, \"yaxis\": {\"backgroundcolor\": \"#E5ECF6\", \"gridcolor\": \"white\", \"gridwidth\": 2, \"linecolor\": \"white\", \"showbackground\": true, \"ticks\": \"\", \"zerolinecolor\": \"white\"}, \"zaxis\": {\"backgroundcolor\": \"#E5ECF6\", \"gridcolor\": \"white\", \"gridwidth\": 2, \"linecolor\": \"white\", \"showbackground\": true, \"ticks\": \"\", \"zerolinecolor\": \"white\"}}, \"shapedefaults\": {\"line\": {\"color\": \"#2a3f5f\"}}, \"ternary\": {\"aaxis\": {\"gridcolor\": \"white\", \"linecolor\": \"white\", \"ticks\": \"\"}, \"baxis\": {\"gridcolor\": \"white\", \"linecolor\": \"white\", \"ticks\": \"\"}, \"bgcolor\": \"#E5ECF6\", \"caxis\": {\"gridcolor\": \"white\", \"linecolor\": \"white\", \"ticks\": \"\"}}, \"title\": {\"x\": 0.05}, \"xaxis\": {\"automargin\": true, \"gridcolor\": \"white\", \"linecolor\": \"white\", \"ticks\": \"\", \"title\": {\"standoff\": 15}, \"zerolinecolor\": \"white\", \"zerolinewidth\": 2}, \"yaxis\": {\"automargin\": true, \"gridcolor\": \"white\", \"linecolor\": \"white\", \"ticks\": \"\", \"title\": {\"standoff\": 15}, \"zerolinecolor\": \"white\", \"zerolinewidth\": 2}}}, \"title\": {\"text\": \"Wealth Multiplier of Constantly Rebalanced Portfolio in Hindsight\"}, \"xaxis\": {\"title\": {\"text\": \"Fraction of Portfolio in AMZN\"}}, \"yaxis\": {\"title\": {\"text\": \"Wealth Multiple at the end of period\"}}},\n",
       "                        {\"responsive\": true}\n",
       "                    ).then(function(){\n",
       "                            \n",
       "var gd = document.getElementById('ebeb8cce-83b2-44d6-bb10-c509f5fcb0f1');\n",
       "var x = new MutationObserver(function (mutations, observer) {{\n",
       "        var display = window.getComputedStyle(gd).display;\n",
       "        if (!display || display === 'none') {{\n",
       "            console.log([gd, 'removed!']);\n",
       "            Plotly.purge(gd);\n",
       "            observer.disconnect();\n",
       "        }}\n",
       "}});\n",
       "\n",
       "// Listen for the removal of the full notebook cells\n",
       "var notebookContainer = gd.closest('#notebook-container');\n",
       "if (notebookContainer) {{\n",
       "    x.observe(notebookContainer, {childList: true});\n",
       "}}\n",
       "\n",
       "// Listen for the clearing of the current output cell\n",
       "var outputEl = gd.closest('.output');\n",
       "if (outputEl) {{\n",
       "    x.observe(outputEl, {childList: true});\n",
       "}}\n",
       "\n",
       "                        })\n",
       "                };\n",
       "                });\n",
       "            </script>\n",
       "        </div>"
      ]
     },
     "metadata": {},
     "output_type": "display_data"
    },
    {
     "name": "stdout",
     "output_type": "stream",
     "text": [
      "4531 Runs Remaining\n",
      "4031 Runs Remaining\n",
      "3531 Runs Remaining\n",
      "3031 Runs Remaining\n",
      "2531 Runs Remaining\n",
      "2031 Runs Remaining\n",
      "1531 Runs Remaining\n",
      "1031 Runs Remaining\n",
      "531 Runs Remaining\n",
      "31 Runs Remaining\n"
     ]
    },
    {
     "data": {
      "text/plain": [
       "(Figure({\n",
       "     'data': [{'mode': 'lines',\n",
       "               'name': 'AMZN',\n",
       "               'type': 'scatter',\n",
       "               'x': array(['2000-07-31', '2000-08-01', '2000-08-02', ..., '2020-07-28',\n",
       "                           '2020-07-29', '2020-07-30'], dtype=object),\n",
       "               'y': array([  30.125   ,   30.25    ,   30.8125  , ..., 3000.330078, 3033.530029,\n",
       "                           3051.879883])},\n",
       "              {'mode': 'lines',\n",
       "               'name': 'AAPL',\n",
       "               'type': 'scatter',\n",
       "               'x': array(['2000-07-31', '2000-08-01', '2000-08-02', ..., '2020-07-28',\n",
       "                           '2020-07-29', '2020-07-30'], dtype=object),\n",
       "               'y': array([  3.142018,   3.049264,   2.921729, ..., 373.01001 , 380.160004,\n",
       "                           384.76001 ])}],\n",
       "     'layout': {'template': '...', 'title': {'text': 'Stock Price'}, 'yaxis': {'title': {'text': 'Stock Price ($)'}}}\n",
       " }), Figure({\n",
       "     'data': [{'mode': 'lines',\n",
       "               'name': 'AMZN',\n",
       "               'type': 'scatter',\n",
       "               'x': array(['2000-08-01', '2000-08-02', '2000-08-03', ..., '2020-07-28',\n",
       "                           '2020-07-29', '2020-07-30'], dtype=object),\n",
       "               'y': array([1.00414938, 1.01859504, 1.02231237, ..., 0.98203728, 1.01106543,\n",
       "                           1.00604901])},\n",
       "              {'mode': 'lines',\n",
       "               'name': 'AAPL',\n",
       "               'type': 'scatter',\n",
       "               'x': array(['2000-08-01', '2000-08-02', '2000-08-03', ..., '2020-07-28',\n",
       "                           '2020-07-29', '2020-07-30'], dtype=object),\n",
       "               'y': array([0.97047948, 0.95817515, 1.01587279, ..., 0.98357246, 1.01916837,\n",
       "                           1.01210018])}],\n",
       "     'layout': {'template': '...',\n",
       "                'title': {'text': 'Wealth Multiplier'},\n",
       "                'yaxis': {'title': {'text': 'Daily Wealth Multiple'}}}\n",
       " }), None, Figure({\n",
       "     'data': [{'marker': {'color': 'Black'},\n",
       "               'mode': 'lines',\n",
       "               'name': 'Universal Portfolio',\n",
       "               'type': 'scatter',\n",
       "               'x': array(['2000-07-31', '2000-08-01', '2000-08-02', ..., '2020-07-27',\n",
       "                           '2020-07-28', '2020-07-29'], dtype=object),\n",
       "               'y': array([  0.98731443,   0.97602318,   0.99470985, ..., 172.48757906,\n",
       "                           175.11400643, 176.71806786])},\n",
       "              {'marker': {'color': 'Red'},\n",
       "               'mode': 'lines',\n",
       "               'name': 'AMZN',\n",
       "               'type': 'scatter',\n",
       "               'x': array(['2000-07-31', '2000-08-01', '2000-08-02', ..., '2020-07-27',\n",
       "                           '2020-07-28', '2020-07-29'], dtype=object),\n",
       "               'y': array([  1.00414938,   1.02282158,   1.04564315, ...,  99.59601919,\n",
       "                           100.69809225, 101.30721603])},\n",
       "              {'marker': {'color': 'Blue'},\n",
       "               'mode': 'lines',\n",
       "               'name': 'AAPL',\n",
       "               'type': 'scatter',\n",
       "               'x': array(['2000-07-31', '2000-08-01', '2000-08-02', ..., '2020-07-27',\n",
       "                           '2020-07-28', '2020-07-29'], dtype=object),\n",
       "               'y': array([  0.97047948,   0.92988933,   0.94464927, ..., 118.71670054,\n",
       "                           120.99230622, 122.45633539])}],\n",
       "     'layout': {'template': '...', 'title': {'text': 'Wealth Multiplier'}, 'yaxis': {'title': {'text': 'Multiplier'}}}\n",
       " }), Figure({\n",
       "     'data': [{'marker': {'color': 'Red'},\n",
       "               'mode': 'lines',\n",
       "               'name': 'AMZN',\n",
       "               'type': 'scatter',\n",
       "               'x': array(['2000-07-31', '2000-08-01', '2000-08-02', ..., '2020-07-28',\n",
       "                           '2020-07-29', '2020-07-30'], dtype=object),\n",
       "               'y': array([0.5       , 0.50295555, 0.50825198, ..., 0.48644186, 0.48587038,\n",
       "                           0.4854411 ])}],\n",
       "     'layout': {'template': '...',\n",
       "                'title': {'text': 'Portfolio Weight'},\n",
       "                'yaxis': {'title': {'text': 'Fraction of Portfolio (%) in AMZN'}}}\n",
       " }))"
      ]
     },
     "execution_count": 173,
     "metadata": {},
     "output_type": "execute_result"
    }
   ],
   "source": [
    "main(stocks=[\"AMZN\", \"AAPL\"])"
   ]
  }
 ],
 "metadata": {
  "kernelspec": {
   "display_name": "Python 3",
   "language": "python",
   "name": "python3"
  },
  "language_info": {
   "codemirror_mode": {
    "name": "ipython",
    "version": 3
   },
   "file_extension": ".py",
   "mimetype": "text/x-python",
   "name": "python",
   "nbconvert_exporter": "python",
   "pygments_lexer": "ipython3",
   "version": "3.6.7"
  }
 },
 "nbformat": 4,
 "nbformat_minor": 4
}
